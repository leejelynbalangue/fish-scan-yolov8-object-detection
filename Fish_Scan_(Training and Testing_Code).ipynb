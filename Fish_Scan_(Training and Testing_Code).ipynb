{
  "metadata": {
    "kernelspec": {
      "language": "python",
      "display_name": "Python 3",
      "name": "python3"
    },
    "language_info": {
      "name": "python",
      "version": "3.10.13",
      "mimetype": "text/x-python",
      "codemirror_mode": {
        "name": "ipython",
        "version": 3
      },
      "pygments_lexer": "ipython3",
      "nbconvert_exporter": "python",
      "file_extension": ".py"
    },
    "kaggle": {
      "accelerator": "nvidiaTeslaT4",
      "dataSources": [],
      "isInternetEnabled": true,
      "language": "python",
      "sourceType": "notebook",
      "isGpuEnabled": true
    },
    "colab": {
      "name": "Fish-Scan (Training Code)",
      "provenance": []
    }
  },
  "nbformat_minor": 0,
  "nbformat": 4,
  "cells": [
    {
      "cell_type": "code",
      "source": [
        "#download the module needed for this training\n",
        "\n",
        "!pip install gdown\n",
        "!pip install ultralytics\n",
        "!pip install albumentations"
      ],
      "metadata": {
        "trusted": true,
        "id": "qsD-t3ar3etY"
      },
      "execution_count": null,
      "outputs": []
    },
    {
      "cell_type": "code",
      "source": [
        "#yaml\n",
        "\n",
        "!gdown 1KdCvJ-l53ZLbdt4xfw5G6h8Yq33I6IQK"
      ],
      "metadata": {
        "trusted": true,
        "id": "XamyJINf3ete"
      },
      "execution_count": null,
      "outputs": []
    },
    {
      "cell_type": "code",
      "source": [
        "#dataset black\n",
        "\n",
        "!gdown 1Hpqf1bTODohBaisjE1RAWwhuy_VNM3fm"
      ],
      "metadata": {
        "trusted": true,
        "id": "T8jqVF2O3etg"
      },
      "execution_count": null,
      "outputs": []
    },
    {
      "cell_type": "code",
      "source": [
        "#dataset white\n",
        "\n",
        "!gdown 1N0CetN7qs-NKCNZCFSxgICv-1D98BeIo"
      ],
      "metadata": {
        "trusted": true,
        "id": "M5aUY_Ex3eth"
      },
      "execution_count": null,
      "outputs": []
    },
    {
      "cell_type": "code",
      "source": [
        "# remove the datasets directory, just in case it contains other dataset\n",
        "# make a directory for the dataset\n",
        "\n",
        "!rm -rf datasets\n",
        "!mkdir datasets\n",
        "!mkdir datasets/data"
      ],
      "metadata": {
        "trusted": true,
        "id": "cqatV9wf3eti"
      },
      "execution_count": null,
      "outputs": []
    },
    {
      "cell_type": "code",
      "source": [
        "# extract black background\n",
        "\n",
        "!tar -xf data.tar.xz -C datasets/data"
      ],
      "metadata": {
        "trusted": true,
        "id": "j31brJEb3etj"
      },
      "execution_count": null,
      "outputs": []
    },
    {
      "cell_type": "code",
      "source": [
        "# extract white background\n",
        "\n",
        "!tar -xf dataset-white.tar.xz -C datasets/data"
      ],
      "metadata": {
        "trusted": true,
        "id": "lqf4av_43etk"
      },
      "execution_count": null,
      "outputs": []
    },
    {
      "cell_type": "code",
      "source": [
        "# delete augmented\n",
        "\n",
        "!rm -rf /kaggle/working/datasets/data/train/*-aug.png\n",
        "!rm -rf /kaggle/working/datasets/data/train/*-aug.jpg\n",
        "!rm -rf /kaggle/working/datasets/data/train/*-aug.txt"
      ],
      "metadata": {
        "trusted": true,
        "id": "RSYqg-fI3etl"
      },
      "execution_count": null,
      "outputs": []
    },
    {
      "cell_type": "code",
      "source": [
        "# run this if you are training \"Researchers' Custom Augmentation\"\n",
        "\n",
        "def yolo_bboxes_txt_to_list_bboxes(file):\n",
        "    with open(file, \"r\") as f:\n",
        "        lines = f.readlines()\n",
        "    lines = [line.strip().split() for line in lines]\n",
        "    lines = [[float(x) for x in line] for line in lines]\n",
        "\n",
        "    for i in range(len(lines)):\n",
        "        lines[i] = lines[i][1:] + [lines[i][0]]\n",
        "\n",
        "    return lines\n",
        "\n",
        "def list_bboxes_to_yolo_bboxes_txt(bboxes, file_name):\n",
        "    with open(file_name, \"w\") as f:\n",
        "        for bbox in bboxes:\n",
        "            x_center, y_center, width, height, class_id = bbox\n",
        "            class_id = int(class_id)\n",
        "            bboxes = f\"{class_id} {x_center} {y_center} {width} {height}\\n\"\n",
        "            f.write(bboxes)\n",
        "\n",
        "import glob\n",
        "import cv2\n",
        "import albumentations as A\n",
        "import matplotlib.pyplot as plt\n",
        "from pathlib import Path\n",
        "\n",
        "dataset_train_folder = \"/kaggle/working/datasets/data/train\"\n",
        "\n",
        "for train_image in glob.glob(dataset_train_folder + \"/*.jpg\"):\n",
        "    #print(train_image)\n",
        "    file_name_without_extension = Path(train_image).stem\n",
        "\n",
        "    image = cv2.imread(train_image)\n",
        "    image = cv2.cvtColor(image, cv2.COLOR_BGR2RGB)\n",
        "\n",
        "    transform = A.Compose([\n",
        "        A.HorizontalFlip(p=1),\n",
        "        A.VerticalFlip(p=0.5),\n",
        "        A.Rotate(limit=(-180, 180), p=0.5, border_mode=cv2.BORDER_CONSTANT),\n",
        "        A.ColorJitter(p=0.5)\n",
        "    ], bbox_params=A.BboxParams(format=\"yolo\"))\n",
        "\n",
        "    yolo_file_bboxes = yolo_bboxes_txt_to_list_bboxes(\n",
        "        f\"{dataset_train_folder}/{file_name_without_extension}.txt\")\n",
        "    try:\n",
        "        transformed = transform(image=image, bboxes=yolo_file_bboxes)\n",
        "    except ValueError as e:\n",
        "        print(train_image)\n",
        "        print(e)\n",
        "\n",
        "    transformed_image = transformed[\"image\"]\n",
        "    transformed_bbox = transformed[\"bboxes\"]\n",
        "\n",
        "    cv2.imwrite(f\"{dataset_train_folder}/{file_name_without_extension}-aug.jpg\", transformed_image)\n",
        "    list_bboxes_to_yolo_bboxes_txt(transformed_bbox, f\"{dataset_train_folder}/{file_name_without_extension}-aug.txt\")\n",
        "\n",
        "for train_image in glob.glob(dataset_train_folder + \"/*.png\"):\n",
        "    file_name_without_extension = Path(train_image).stem\n",
        "\n",
        "    image = cv2.imread(train_image)\n",
        "    image = cv2.cvtColor(image, cv2.COLOR_BGR2RGB)\n",
        "\n",
        "    transform = A.Compose([\n",
        "        A.HorizontalFlip(p=1),\n",
        "        A.VerticalFlip(p=0.5),\n",
        "        A.Rotate(limit=(-180, 180), p=0.5, border_mode=cv2.BORDER_CONSTANT),\n",
        "        A.ColorJitter(p=0.5)\n",
        "    ], bbox_params=A.BboxParams(format=\"yolo\"))\n",
        "\n",
        "    yolo_file_bboxes = yolo_bboxes_txt_to_list_bboxes(\n",
        "        f\"{dataset_train_folder}/{file_name_without_extension}.txt\")\n",
        "\n",
        "    try:\n",
        "        transformed = transform(image=image, bboxes=yolo_file_bboxes)\n",
        "    except ValueError as e:\n",
        "        print(train_image)\n",
        "        print(e)\n",
        "\n",
        "    transformed_image = transformed[\"image\"]\n",
        "    transformed_bbox = transformed[\"bboxes\"]\n",
        "\n",
        "    cv2.imwrite(f\"{dataset_train_folder}/{file_name_without_extension}-aug.png\", transformed_image)\n",
        "    list_bboxes_to_yolo_bboxes_txt(transformed_bbox, f\"{dataset_train_folder}/{file_name_without_extension}-aug.txt\")\n",
        "\n",
        "print(\"Success\")"
      ],
      "metadata": {
        "trusted": true,
        "id": "pnzNRtDI3etm"
      },
      "execution_count": null,
      "outputs": []
    },
    {
      "cell_type": "code",
      "source": [
        "# delete cache if u changed ur dataset\n",
        "\n",
        "!rm -rf /kaggle/working/datasets/data/train/train.cache"
      ],
      "metadata": {
        "trusted": true,
        "id": "JMCG7IeV3etn"
      },
      "execution_count": null,
      "outputs": []
    },
    {
      "cell_type": "code",
      "source": [
        "# install this before training\n",
        "\n",
        "pip install -U ipywidgets"
      ],
      "metadata": {
        "id": "K5dhtvP53eto"
      },
      "execution_count": null,
      "outputs": []
    },
    {
      "cell_type": "code",
      "source": [
        "# install this for visualization of results\n",
        "\n",
        "!pip install wandb"
      ],
      "metadata": {
        "id": "Dpz7NPJ63eto"
      },
      "execution_count": null,
      "outputs": []
    },
    {
      "cell_type": "code",
      "source": [
        "wandb login"
      ],
      "metadata": {
        "id": "YOaDnaNJ3etp"
      },
      "execution_count": null,
      "outputs": []
    },
    {
      "cell_type": "code",
      "source": [
        "# 1st Experiment: Without Augmentation\n",
        "\n",
        "from ultralytics import YOLO\n",
        "\n",
        "model = YOLO('yolov8n.pt')\n",
        "\n",
        "results = model.train(\n",
        "    data='fishscan.yaml',\n",
        "    epochs=200,\n",
        "    imgsz=320,\n",
        "    optimizer='AdamW',\n",
        "    lr0=0.001,\n",
        "    patience=10,\n",
        "    device=[0,1],\n",
        "    # augmentations\n",
        "    hsv_h=0.0,hsv_s=0.0,hsv_v=0.0,\n",
        "    translate=0.0,scale=0,mosaic=0,erasing=0,\n",
        "    degrees=0,\n",
        "    flipud=0.0,\n",
        "    fliplr=0.0,\n",
        "    copy_paste=0.5,\n",
        "    project=\"<name of your project>\", # eg. black-without-aug\n",
        "    plots=True,\n",
        "    augment=False,\n",
        ")"
      ],
      "metadata": {
        "trusted": true,
        "id": "SYYRl_h23etp"
      },
      "execution_count": null,
      "outputs": []
    },
    {
      "cell_type": "code",
      "source": [
        "# 2nd Experiment: YOLOv8 Default Augmentation\n",
        "\n",
        "from ultralytics import YOLO\n",
        "\n",
        "model = YOLO('yolov8n.pt')\n",
        "\n",
        "results = model.train(\n",
        "    data='fishscan.yaml',\n",
        "    epochs=200,\n",
        "    imgsz=320,\n",
        "    optimizer='AdamW',\n",
        "    lr0=0.001,\n",
        "    patience=10,\n",
        "    device=[0,1],\n",
        "    project=\"<name of the project>\", # eg. black-yolov8-def\n",
        "    plots=True,\n",
        "    augment=True,\n",
        ")"
      ],
      "metadata": {
        "trusted": true,
        "id": "9ZVkYmnW3etq"
      },
      "execution_count": null,
      "outputs": []
    },
    {
      "cell_type": "code",
      "source": [
        "# 3rd Experiment: Researchers' Custom Augmentation\n",
        "\n",
        "from ultralytics import YOLO\n",
        "\n",
        "model = YOLO('yolov8n.pt')\n",
        "\n",
        "results = model.train(\n",
        "    data='fishscan.yaml',\n",
        "    epochs=200,\n",
        "    imgsz=640,\n",
        "    optimizer='AdamW',\n",
        "    lr0=0.001,\n",
        "    patience=10,\n",
        "    device=[0,1],\n",
        "    hsv_h=0.0,hsv_s=0.0,hsv_v=0.0,\n",
        "    translate=0.0,scale=0,mosaic=0,erasing=0,\n",
        "    degrees=0,\n",
        "    flipud=0.5,\n",
        "    fliplr=0.5,\n",
        "    copy_paste=0.0,\n",
        "    project=\"<name of the project>\", # eg. black-res-custom\n",
        "    plots=True,\n",
        "    augment=True,\n",
        ")"
      ],
      "metadata": {
        "trusted": true,
        "id": "q2e_lajt3etq"
      },
      "execution_count": null,
      "outputs": []
    },
    {
      "cell_type": "code",
      "source": [
        "# 4th Experiment: Combination of YOLOv8 Default Augmentation\n",
        "# and Researchers' Custom Augmentation\n",
        "\n",
        "from ultralytics import YOLO\n",
        "\n",
        "model = YOLO('yolov8n.pt')\n",
        "\n",
        "results = model.train(\n",
        "    data='fishscan.yaml',\n",
        "    epochs=200,\n",
        "    imgsz=320,\n",
        "    optimizer='AdamW',\n",
        "    lr0=0.001,\n",
        "    patience=10,\n",
        "    device=[0,1],\n",
        "    flipud=0.5,\n",
        "    fliplr=0.5,\n",
        "    project=\"<name of your project>\", # eg. black-combi\n",
        "    plots=True,\n",
        "    augment=True,\n",
        ")"
      ],
      "metadata": {
        "_kg_hide-output": false,
        "trusted": true,
        "id": "Q856ehPq3etq"
      },
      "execution_count": null,
      "outputs": []
    },
    {
      "cell_type": "code",
      "source": [
        "# save your training after 200 epochs or after patience\n",
        "\n",
        "!zip /kaggle/working/<name of the zipfile>.zip -r /kaggle/working/combined-our-aug-640/train3"
      ],
      "metadata": {
        "trusted": true,
        "id": "q8ekpkzv3etr"
      },
      "execution_count": null,
      "outputs": []
    },
    {
      "cell_type": "code",
      "source": [
        "# test results\n",
        "\n",
        "from ultralytics import YOLO\n",
        "model = YOLO(\"/kaggle/working/combined-our-aug-640/train2/weights/best.pt\") # directory of best.pt\n",
        "results = model.val(data='fishscan.yaml',save=True,plots=True, split='test')"
      ],
      "metadata": {
        "id": "cdkmCU6-3etr"
      },
      "execution_count": null,
      "outputs": []
    },
    {
      "cell_type": "code",
      "source": [
        "#save the tests results\n",
        "\n",
        "!zip /kaggle/working/<name of the zipfile>.zip -r /kaggle/working/runs/detect/val"
      ],
      "metadata": {
        "trusted": true,
        "id": "Az-gWitp3ets"
      },
      "execution_count": null,
      "outputs": []
    }
  ]
}